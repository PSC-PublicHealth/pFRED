{
 "cells": [
  {
   "cell_type": "code",
   "execution_count": null,
   "metadata": {
    "collapsed": false
   },
   "outputs": [],
   "source": [
    "import cyprinev.convert_output\n",
    "import pandas as pd\n",
    "import numpy as np\n",
    "import yaml\n",
    "reload(cyprinev.convert_output)"
   ]
  },
  {
   "cell_type": "code",
   "execution_count": null,
   "metadata": {
    "collapsed": false
   },
   "outputs": [],
   "source": [
    "ocn = cyprinev.convert_output.OutputCollection('../populations/2005_2009_ver2_42003')\n",
    "with open('cyprinev/default_group_config.yaml') as f:\n",
    "    y = yaml.load(f)\n",
    "reportfiles = ('reports/R0-1.4-1', 'reports/R0-1.4-2')\n",
    "#events = ocn.read_event_report('reports/R0-1.4-1')\n",
    "#d = ocn.count_events(['reports/R0-1.4-1'], y).next()"
   ]
  },
  {
   "cell_type": "code",
   "execution_count": null,
   "metadata": {
    "collapsed": false
   },
   "outputs": [],
   "source": [
    "d = [r['counts'] for r in ocn.count_events(reportfiles, y)]"
   ]
  },
  {
   "cell_type": "code",
   "execution_count": null,
   "metadata": {
    "collapsed": false
   },
   "outputs": [],
   "source": [
    "len(ocn.households.apollo_location_code.unique())"
   ]
  },
  {
   "cell_type": "code",
   "execution_count": null,
   "metadata": {
    "collapsed": false
   },
   "outputs": [],
   "source": [
    "group_dict = dict(\n",
    "    locations=359,\n",
    "    days=365,\n",
    "    ages=100,\n",
    "    sexes=2,\n",
    "    races=2,\n",
    "    household_incomes=2,\n",
    ")\n",
    "# Number of columns is the number of index columns, plus the \"variable\" column,\n",
    "# plus the \"count\" column\n",
    "ncol = (len(group_dict) + 2)\n",
    "print('ncol %d' % ncol)\n",
    "\n",
    "nrow = 1\n",
    "for k,v in group_dict.iteritems():\n",
    "    nrow *= v\n",
    "# multiply number of cells by two since there will be at least one person in every\n",
    "# equivalence class at each timepoint that exists (ie, 'N') and there will be at least\n",
    "# one person in each equivalence class who is either susceptible, infectious, exposed,\n",
    "# or recovered (ie S|E|I|R) at every timepoint.  If both incidence and prevalence are\n",
    "# reported then this should be doubled again\n",
    "nrow *= 2\n",
    "print('nrow %d' % nrow)\n",
    "\n",
    "ncell = nrow * ncol\n",
    "print('ncell %d' % ncell)\n",
    "\n",
    "# 64 bit indexes, ints and floats by default\n",
    "nbits = ncell * 64\n",
    "print('nbits %d' % nbits)\n",
    "\n",
    "GB = float(nbits) / 8e9\n",
    "print('Gigabytes required %f' % GB)"
   ]
  },
  {
   "cell_type": "code",
   "execution_count": null,
   "metadata": {
    "collapsed": false
   },
   "outputs": [],
   "source": [
    "ah = pd.read_hdf('counts/R0.1.4.apollo.h5')"
   ]
  },
  {
   "cell_type": "code",
   "execution_count": null,
   "metadata": {
    "collapsed": false
   },
   "outputs": [],
   "source": [
    "ah.head()"
   ]
  },
  {
   "cell_type": "code",
   "execution_count": null,
   "metadata": {
    "collapsed": true
   },
   "outputs": [],
   "source": []
  }
 ],
 "metadata": {
  "kernelspec": {
   "display_name": "Python 2",
   "language": "python",
   "name": "python2"
  },
  "language_info": {
   "codemirror_mode": {
    "name": "ipython",
    "version": 2
   },
   "file_extension": ".py",
   "mimetype": "text/x-python",
   "name": "python",
   "nbconvert_exporter": "python",
   "pygments_lexer": "ipython2",
   "version": "2.7.10"
  }
 },
 "nbformat": 4,
 "nbformat_minor": 0
}
