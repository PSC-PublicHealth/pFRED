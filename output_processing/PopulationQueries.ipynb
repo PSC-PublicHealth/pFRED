{
 "cells": [
  {
   "cell_type": "code",
   "execution_count": null,
   "metadata": {
    "collapsed": true
   },
   "outputs": [],
   "source": [
    "import pandas as pd\n",
    "population = pd.DataFrame.from_csv('../populations/2005_2009_ver2_42003/2005_2009_ver2_42003_synth_people.txt')\n",
    "households = pd.DataFrame.from_csv('../populations/2005_2009_ver2_42003/2005_2009_ver2_42003_synth_households.txt')\n",
    "workplaces = pd.DataFrame.from_csv('../populations/2005_2009_ver2_42003/2005_2009_ver2_42003_workplaces.txt')\n",
    "schools = pd.DataFrame.from_csv('../populations/2005_2009_ver2_42003/2005_2009_ver2_42003_schools.txt')"
   ]
  },
  {
   "cell_type": "code",
   "execution_count": null,
   "metadata": {
    "collapsed": false
   },
   "outputs": [],
   "source": [
    "population.head()"
   ]
  },
  {
   "cell_type": "code",
   "execution_count": null,
   "metadata": {
    "collapsed": false
   },
   "outputs": [],
   "source": [
    "households.head()"
   ]
  },
  {
   "cell_type": "code",
   "execution_count": null,
   "metadata": {
    "collapsed": true
   },
   "outputs": [],
   "source": [
    "population_dict = dict(\n",
    "    person = 'p_id',\n",
    "    race = 'race',\n",
    "    age = 'age',\n",
    "    sex = 'sex'\n",
    ")\n",
    "household_dict = dict(\n",
    "    income = 'hh_income',\n",
    "    location = 'stcotrbg'\n",
    ")"
   ]
  },
  {
   "cell_type": "code",
   "execution_count": null,
   "metadata": {
    "collapsed": false
   },
   "outputs": [],
   "source": [
    "def query_population(population, households,\n",
    "                     population_attributes=['age','race','sex'],\n",
    "                     household_attributes=['income','location']):\n",
    "    _population_attributes = [population_dict[x] for x in population_attributes] \n",
    "    _household_attributes = [household_dict[x] for x in household_attributes]\n",
    "    population = population[_population_attributes+['hh_id',]].join(\n",
    "        households[_household_attributes],\n",
    "                   on='hh_id', lsuffix='', rsuffix='.h',\n",
    "                   how='left')[list(set(_population_attributes).union(_household_attributes))].reset_index(level=0)\n",
    "    population.rename(columns = {'p_id':'person'}, inplace = True)\n",
    "    return population"
   ]
  },
  {
   "cell_type": "code",
   "execution_count": null,
   "metadata": {
    "collapsed": false
   },
   "outputs": [],
   "source": [
    "query_population(population,households)"
   ]
  },
  {
   "cell_type": "code",
   "execution_count": null,
   "metadata": {
    "collapsed": true
   },
   "outputs": [],
   "source": []
  }
 ],
 "metadata": {
  "kernelspec": {
   "display_name": "Python 2",
   "language": "python",
   "name": "python2"
  },
  "language_info": {
   "codemirror_mode": {
    "name": "ipython",
    "version": 2
   },
   "file_extension": ".py",
   "mimetype": "text/x-python",
   "name": "python",
   "nbconvert_exporter": "python",
   "pygments_lexer": "ipython2",
   "version": "2.7.9"
  }
 },
 "nbformat": 4,
 "nbformat_minor": 0
}
