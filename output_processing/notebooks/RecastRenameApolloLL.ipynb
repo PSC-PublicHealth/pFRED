{
 "cells": [
  {
   "cell_type": "code",
   "execution_count": null,
   "metadata": {
    "collapsed": true
   },
   "outputs": [],
   "source": [
    "import pandas as pd"
   ]
  },
  {
   "cell_type": "code",
   "execution_count": null,
   "metadata": {
    "collapsed": false
   },
   "outputs": [],
   "source": [
    "d"
   ]
  },
  {
   "cell_type": "code",
   "execution_count": null,
   "metadata": {
    "collapsed": false
   },
   "outputs": [],
   "source": [
    "d2 = pd.read_csv('/tmp/test.csv')\n",
    "d2 = pd.concat([d2, d2.state_tuple.str.split(':').apply(lambda x: pd.Series(\n",
    "        {'infection_state':x[0], 'disease_state':x[1]}))], axis=1)\n",
    "\n",
    "d2.drop('state_tuple', axis=1, inplace=True)\n",
    "if 'gender' in d2:\n",
    "    d2['sex'] = d2.gender.apply(lambda x: 'M' if x==1 else 'F').astype('category')\n",
    "    d2.drop('gender', axis=1, inplace=True)\n",
    "if 'age' in d2:\n",
    "    d2.rename(columns={'age':'age_range_category_label'}, inplace=True)\n",
    "if 'location' in d2:\n",
    "    d2.rename(columns={'location':'household_location_admin4'}, inplace=True)\n",
    "if 'income' in d2:\n",
    "    d2.rename(columns={'income':'household_median_income_category_label'}, inplace=True)\n",
    "if 'vaccination_status' in d2:\n",
    "    v_s_map = {0: 'noVaccination', 1: 'successfulVaccination'}\n",
    "    d2.vaccination_status = d2.vaccination_status.apply(lambda x: v_s_map[x]).astype('category')\n",
    "d2"
   ]
  },
  {
   "cell_type": "code",
   "execution_count": null,
   "metadata": {
    "collapsed": false
   },
   "outputs": [],
   "source": [
    "d2 = pd.read_csv('/tmp/test.csv')\n",
    "d3 = d2.state_tuple.str.split(':', expand=True)\n",
    "d3"
   ]
  },
  {
   "cell_type": "code",
   "execution_count": null,
   "metadata": {
    "collapsed": true
   },
   "outputs": [],
   "source": []
  }
 ],
 "metadata": {
  "kernelspec": {
   "display_name": "Python 2",
   "language": "python",
   "name": "python2"
  },
  "language_info": {
   "codemirror_mode": {
    "name": "ipython",
    "version": 2
   },
   "file_extension": ".py",
   "mimetype": "text/x-python",
   "name": "python",
   "nbconvert_exporter": "python",
   "pygments_lexer": "ipython2",
   "version": "2.7.9"
  }
 },
 "nbformat": 4,
 "nbformat_minor": 0
}
