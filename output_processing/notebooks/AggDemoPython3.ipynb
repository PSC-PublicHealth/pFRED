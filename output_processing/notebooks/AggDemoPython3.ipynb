{
 "cells": [
  {
   "cell_type": "code",
   "execution_count": null,
   "metadata": {
    "collapsed": false
   },
   "outputs": [],
   "source": [
    "import sys\n",
    "print(sys.version)"
   ]
  },
  {
   "cell_type": "code",
   "execution_count": null,
   "metadata": {
    "collapsed": false
   },
   "outputs": [],
   "source": [
    "import pandas as pd\n",
    "import time\n",
    "class Timer():\n",
    "    def __init__(self):\n",
    "        self.tic = time.time()\n",
    "    def __call__(self):\n",
    "        toc = time.time()\n",
    "        t = '%0.1f' % (toc - self.tic)\n",
    "        self.tic = toc\n",
    "        return t"
   ]
  },
  {
   "cell_type": "code",
   "execution_count": null,
   "metadata": {
    "collapsed": true
   },
   "outputs": [],
   "source": [
    "hdf = pd.HDFStore('/tmp/R0.1.4.apollo.h5.16')"
   ]
  },
  {
   "cell_type": "code",
   "execution_count": null,
   "metadata": {
    "collapsed": false
   },
   "outputs": [],
   "source": [
    "hdf.keys()"
   ]
  },
  {
   "cell_type": "code",
   "execution_count": null,
   "metadata": {
    "collapsed": false
   },
   "outputs": [],
   "source": [
    "hdf.groups"
   ]
  },
  {
   "cell_type": "code",
   "execution_count": null,
   "metadata": {
    "collapsed": false
   },
   "outputs": [],
   "source": [
    "hdf.groups()"
   ]
  },
  {
   "cell_type": "code",
   "execution_count": null,
   "metadata": {
    "collapsed": false
   },
   "outputs": [],
   "source": [
    "timer = Timer()\n",
    "n=0\n",
    "for chunk in hdf.select(hdf.keys()[0], where=('simulator_time<5'), chunksize=10000, iterator=True):\n",
    "    c = chunk\n",
    "    n += 1\n",
    "print('took %s seconds to iterate through %d chunks' % (timer(),n))\n",
    "print(c.head())"
   ]
  },
  {
   "cell_type": "code",
   "execution_count": null,
   "metadata": {
    "collapsed": false
   },
   "outputs": [],
   "source": [
    "#groups = ['age_range_category_label']\n",
    "#hdf.select_column('/apollo_aggregated_counts', 'age_range_category_label').unique()\n",
    "#hdf.select(hdf.keys()[0], where=('simulator_time<5'), chunksize=10000, iterator=True).groupby(['age_range',])"
   ]
  },
  {
   "cell_type": "code",
   "execution_count": null,
   "metadata": {
    "collapsed": false
   },
   "outputs": [],
   "source": [
    "timer = Timer()\n",
    "n=0\n",
    "for c in hdf.select(hdf.keys()[0], where=('simulator_time<100'), chunksize=100000, iterator=True):\n",
    "    l = c.index.names.index('age_range_category_label')\n",
    "    if n == 0:\n",
    "        r = c.groupby(level=[l]).sum()\n",
    "    else:\n",
    "        r = r.add(c.groupby(level=[l]).sum(), fill_value=0)\n",
    "    n += 1\n",
    "print('took %s seconds to iterate through %d chunks' % (timer(),n))\n",
    "print(r.head())"
   ]
  },
  {
   "cell_type": "code",
   "execution_count": null,
   "metadata": {
    "collapsed": true
   },
   "outputs": [],
   "source": []
  }
 ],
 "metadata": {
  "kernelspec": {
   "display_name": "Python 3",
   "language": "python",
   "name": "python3"
  },
  "language_info": {
   "codemirror_mode": {
    "name": "ipython",
    "version": 3
   },
   "file_extension": ".py",
   "mimetype": "text/x-python",
   "name": "python",
   "nbconvert_exporter": "python",
   "pygments_lexer": "ipython3",
   "version": "3.5.1"
  }
 },
 "nbformat": 4,
 "nbformat_minor": 0
}
