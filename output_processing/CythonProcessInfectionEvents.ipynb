{
 "cells": [
  {
   "cell_type": "code",
   "execution_count": null,
   "metadata": {
    "collapsed": false
   },
   "outputs": [],
   "source": [
    "#%reload_ext Cython\n",
    "import pandas as pd\n",
    "import numpy as np\n",
    "#from scipy.sparse import csr_matrix\n",
    "from collections import OrderedDict\n",
    "import time\n",
    "#import numba"
   ]
  },
  {
   "cell_type": "code",
   "execution_count": null,
   "metadata": {
    "collapsed": false
   },
   "outputs": [],
   "source": [
    "# NOTE: Inital setting for NA; may change later when coerced to DTYPE!\n",
    "NA = -1\n",
    "DTYPE = np.uint32\n",
    "d_full = pd.read_csv('/tmp/test.csv')\n",
    "d_full.fillna(NA, inplace=True)\n",
    "d_full.ix[d_full.gender != NA,'gender'] -= 1\n",
    "d_full = d_full.apply(lambda x: x.astype(DTYPE), axis=0)\n",
    "# NOTE: NA may change when coerced to DTYPE!\n",
    "NA = DTYPE(NA)"
   ]
  },
  {
   "cell_type": "code",
   "execution_count": null,
   "metadata": {
    "collapsed": false
   },
   "outputs": [],
   "source": [
    "d_full.head()"
   ]
  },
  {
   "cell_type": "code",
   "execution_count": null,
   "metadata": {
    "collapsed": false
   },
   "outputs": [],
   "source": [
    "grouping_keys = ['age','gender']\n",
    "d = d_full.sort_values(grouping_keys).reset_index(drop=True)\n",
    "\n",
    "event_map = OrderedDict(\n",
    "    exposed = d.columns.get_loc('exposed'),\n",
    "    infectious = d.columns.get_loc('infectious'),\n",
    "    symptomatic = d.columns.get_loc('symptomatic'),\n",
    "    recovered = d.columns.get_loc('recovered'),\n",
    "    susceptible = d.columns.get_loc('susceptible')\n",
    ")\n",
    "\n",
    "state_map = OrderedDict(\n",
    "    N_i=0,S_i=2,E_i=4,I_i=6,Y_i=8,R_i=10,IS_i=12,\n",
    "    N_p=1,S_p=3,E_p=5,I_p=7,Y_p=9,R_p=11,IS_p=13\n",
    ")\n",
    "\n",
    "group_map = OrderedDict([(k,d.columns.get_loc(k)) for k in grouping_keys])\n",
    "group_dims_sorted_indexes = [i for k,i in group_map.iteritems()]\n",
    "group_dims_sizes = [int(d[k][d[k]!=NA].max()) + 1 for k in group_map.keys()]\n",
    "\n",
    "dim_states_size = len(state_map)\n",
    "dim_days_size = int(d.recovered[d.recovered != NA].max()) + 1\n",
    "\n",
    "a = np.zeros(group_dims_sizes+[dim_states_size,dim_days_size], dtype=DTYPE)\n",
    "a.shape"
   ]
  },
  {
   "cell_type": "code",
   "execution_count": null,
   "metadata": {
    "collapsed": false
   },
   "outputs": [],
   "source": [
    "#%prun -l 2 d.apply(get_counts, axis=1, raw=True)\n",
    "#test2=d.apply(get_counts, axis=1, raw=True)"
   ]
  },
  {
   "cell_type": "markdown",
   "metadata": {},
   "source": [
    "The following cells reproduce the important bits of the cython cell magic.\n",
    "For guidance look here:\n",
    "- https://raw.githubusercontent.com/studer/ipython/master/IPython/extensions/cythonmagic.py"
   ]
  },
  {
   "cell_type": "code",
   "execution_count": null,
   "metadata": {
    "collapsed": false
   },
   "outputs": [],
   "source": [
    "from distutils.core import Distribution, Extension\n",
    "from distutils.command.build_ext import build_ext\n",
    "from Cython.Build import cythonize\n",
    "import os\n",
    "os.environ[\"CC\"] = \"gcc-5\"\n",
    "os.environ[\"CXX\"] = \"g++-5\"\n",
    "dist = Distribution()\n",
    "build_extension = build_ext(dist)\n",
    "build_extension.finalize_options()\n",
    "opts = dict(\n",
    "    #quiet=quiet,\n",
    "    #annotate = args.annotate,\n",
    "    force = True,\n",
    ")\n",
    "cyprinev_extension = Extension(\n",
    "    name = 'count_events',\n",
    "    sources = ['cyprinev/count_events.pyx'],\n",
    "    include_dirs = [np.get_include()],\n",
    "    language = 'c',\n",
    "    #library_dirs = ['/usr/local/lib/gcc/5','/usr/local/lib'],\n",
    "    extra_compile_args=['-fopenmp'],\n",
    "    extra_link_args=['-fopenmp'],\n",
    "    depends = []\n",
    "    #libraries = args.lib,\n",
    "    #language = 'c++' if args.cplus else 'c',\n",
    ")\n",
    "build_extension.extensions = cythonize([cyprinev_extension], force=True)\n",
    "build_extension.build_temp = 'cyprinev/build_temp'\n",
    "build_extension.build_lib  = 'cyprinev'\n",
    "build_extension.run()\n",
    "#import cyprinev.count_events as count_events\n",
    "#reload(count_events)"
   ]
  },
  {
   "cell_type": "code",
   "execution_count": null,
   "metadata": {
    "collapsed": false
   },
   "outputs": [],
   "source": [
    "#import cyprinev.count_events as count_events\n",
    "reload(count_events)"
   ]
  },
  {
   "cell_type": "code",
   "execution_count": null,
   "metadata": {
    "collapsed": true
   },
   "outputs": [],
   "source": [
    "dg=d.groupby(grouping_keys)"
   ]
  },
  {
   "cell_type": "code",
   "execution_count": null,
   "metadata": {
    "collapsed": false
   },
   "outputs": [],
   "source": [
    "dgda = np.asarray([dg.get_group(g).index[[0,-1]].values for g in dg.groups.keys()])"
   ]
  },
  {
   "cell_type": "code",
   "execution_count": null,
   "metadata": {
    "collapsed": false
   },
   "outputs": [],
   "source": [
    "count_events.test_gil()"
   ]
  },
  {
   "cell_type": "code",
   "execution_count": null,
   "metadata": {
    "collapsed": true
   },
   "outputs": [],
   "source": []
  }
 ],
 "metadata": {
  "kernelspec": {
   "display_name": "Python 2",
   "language": "python",
   "name": "python2"
  },
  "language_info": {
   "codemirror_mode": {
    "name": "ipython",
    "version": 2
   },
   "file_extension": ".py",
   "mimetype": "text/x-python",
   "name": "python",
   "nbconvert_exporter": "python",
   "pygments_lexer": "ipython2",
   "version": "2.7.11"
  }
 },
 "nbformat": 4,
 "nbformat_minor": 0
}
