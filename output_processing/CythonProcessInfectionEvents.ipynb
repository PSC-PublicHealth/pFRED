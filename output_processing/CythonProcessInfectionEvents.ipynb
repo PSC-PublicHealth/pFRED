{
 "cells": [
  {
   "cell_type": "code",
   "execution_count": null,
   "metadata": {
    "collapsed": false
   },
   "outputs": [],
   "source": [
    "#%reload_ext Cython\n",
    "import pandas as pd\n",
    "import numpy as np\n",
    "#from scipy.sparse import csr_matrix\n",
    "from collections import OrderedDict\n",
    "import time\n",
    "#import numba"
   ]
  },
  {
   "cell_type": "code",
   "execution_count": null,
   "metadata": {
    "collapsed": false
   },
   "outputs": [],
   "source": [
    "# NOTE: Inital setting for NA; may change later when coerced to DTYPE!\n",
    "NA = -1\n",
    "DTYPE = np.uint32\n",
    "d_full = pd.read_csv('/tmp/test.csv')\n",
    "d_full.fillna(NA, inplace=True)\n",
    "d_full.ix[d_full.gender != NA,'gender'] -= 1\n",
    "d_full = d_full.apply(lambda x: x.astype(DTYPE), axis=0)\n",
    "# NOTE: NA may change when coerced to DTYPE!\n",
    "NA = DTYPE(NA)"
   ]
  },
  {
   "cell_type": "code",
   "execution_count": null,
   "metadata": {
    "collapsed": false
   },
   "outputs": [],
   "source": [
    "d_full.head()"
   ]
  },
  {
   "cell_type": "code",
   "execution_count": null,
   "metadata": {
    "collapsed": false
   },
   "outputs": [],
   "source": [
    "d = d_full\n",
    "\n",
    "event_map = OrderedDict(\n",
    "    exposed = d.columns.get_loc('exposed'),\n",
    "    infectious = d.columns.get_loc('infectious'),\n",
    "    symptomatic = d.columns.get_loc('symptomatic'),\n",
    "    recovered = d.columns.get_loc('recovered'),\n",
    "    susceptible = d.columns.get_loc('susceptible')\n",
    ")\n",
    "\n",
    "state_map = OrderedDict(\n",
    "    N_i=0,S_i=2,E_i=4,I_i=6,Y_i=8,R_i=10,IS_i=12,\n",
    "    N_p=1,S_p=3,E_p=5,I_p=7,Y_p=9,R_p=11,IS_p=13\n",
    ")\n",
    "\n",
    "grouping_keys = ['age','gender']\n",
    "group_map = OrderedDict([(k,d.columns.get_loc(k)) for k in grouping_keys])\n",
    "group_dims_sorted_indexes = [i for k,i in group_map.iteritems()]\n",
    "group_dims_sizes = [int(d[k][d[k]!=NA].max()) + 1 for k in group_map.keys()]\n",
    "\n",
    "dim_states_size = len(state_map)\n",
    "dim_days_size = int(d.recovered[d.recovered != NA].max()) + 1\n",
    "\n",
    "a = np.zeros(group_dims_sizes+[dim_states_size,dim_days_size], dtype=DTYPE)\n",
    "a.shape"
   ]
  },
  {
   "cell_type": "markdown",
   "metadata": {
    "collapsed": false
   },
   "source": [
    "```python\n",
    "%%cython\n",
    "from __main__ import NA, DTYPE\n",
    "from __main__ import state_map, event_map, group_map\n",
    "from __main__ import dim_days_size, group_dims_sorted_indexes\n",
    "from __main__ import a\n",
    "\n",
    "last_day = DTYPE(dim_days_size - 1)\n",
    "num_days = DTYPE(dim_days_size)\n",
    "\n",
    "exposed = event_map['exposed']\n",
    "infectious = event_map['infectious']\n",
    "symptomatic = event_map['symptomatic']\n",
    "recovered = event_map['recovered']\n",
    "susceptible = event_map['susceptible']\n",
    "\n",
    "N_i = state_map['N_i']\n",
    "S_i = state_map['S_i']\n",
    "E_i = state_map['E_i']\n",
    "I_i = state_map['I_i']\n",
    "Y_i = state_map['Y_i']\n",
    "R_i = state_map['R_i']\n",
    "IS_i = state_map['IS_i']\n",
    "\n",
    "N_p = state_map['N_p']\n",
    "S_p = state_map['S_p']\n",
    "E_p = state_map['E_p']\n",
    "I_p = state_map['I_p']\n",
    "Y_p = state_map['Y_p']\n",
    "R_p = state_map['R_p']\n",
    "IS_p = state_map['IS_p']\n",
    "\n",
    "def get_counts(r):\n",
    "    group_indexes = []\n",
    "    for g in group_dims_sorted_indexes:\n",
    "        if r[g] == NA:\n",
    "            return False\n",
    "        else:\n",
    "            group_indexes.append([r[g]])\n",
    "\n",
    "    # always increment N_p (if groupings are not null)\n",
    "    a[group_indexes + [[N_p]]] += 1\n",
    "\n",
    "    if r[exposed] == NA:\n",
    "        a[group_indexes + [[S_p]]] += 1\n",
    "    else:\n",
    "        a[group_indexes + [[E_i]] + [[r[exposed]]]] += 1\n",
    "        a[group_indexes + [[E_p]] + [range(r[exposed], r[infectious])]] += 1\n",
    "        \n",
    "        a[group_indexes + [[S_p]] + [range(0, r[exposed])]] += 1\n",
    "        if r[susceptible] != NA:\n",
    "            if r[susceptible] < last_day:\n",
    "                a[group_indexes + [[S_p]] + [range(r[susceptible], num_days)]] += 1\n",
    "            elif r[susceptible] == last_day:\n",
    "                a[group_indexes + [[S_p]] + [r[susceptible]]] += 1\n",
    "                    \n",
    "        if r[infectious] != NA:\n",
    "            a[group_indexes + [[I_i]] + [[r[infectious]]]] += 1\n",
    "            a[group_indexes + [[I_p]] + [range(r[infectious], r[recovered])]] += 1\n",
    "            \n",
    "        if r[symptomatic] != NA:\n",
    "            a[group_indexes + [[Y_i]] + [[r[symptomatic]]]] += 1\n",
    "            a[group_indexes + [[Y_p]] + [range(r[symptomatic], r[recovered])]] += 1\n",
    "            # NOTE: by default all symptomatics are infectious; this is a shortcut \n",
    "            a[group_indexes + [[IS_i]] + [[r[symptomatic]]]] += 1\n",
    "            a[group_indexes + [[IS_i]] + [range(r[symptomatic], r[recovered])]] += 1\n",
    "           \n",
    "        if r[recovered] != NA:\n",
    "            a[group_indexes + [[R_i]] + [[r[recovered]]]] += 1\n",
    "            if r[recovered] == last_day:\n",
    "                a[group_indexes + [[R_p]] + [[r[recovered]]]] += 1\n",
    "            else:\n",
    "                assert(r[recovered] < last_day)\n",
    "                a[group_indexes + [[R_p]] + [range(r[recovered], num_days)]] += 1\n",
    "                \n",
    "    return True\n",
    "```"
   ]
  },
  {
   "cell_type": "code",
   "execution_count": null,
   "metadata": {
    "collapsed": false
   },
   "outputs": [],
   "source": [
    "%prun -l 2 d.apply(get_counts, axis=1, raw=True)\n",
    "#test2=d.apply(get_counts, axis=1, raw=True)"
   ]
  },
  {
   "cell_type": "markdown",
   "metadata": {},
   "source": [
    "The following cells reproduce the important bits of the cython cell magic.\n",
    "For guidance look here:\n",
    "- https://raw.githubusercontent.com/studer/ipython/master/IPython/extensions/cythonmagic.py"
   ]
  },
  {
   "cell_type": "code",
   "execution_count": null,
   "metadata": {
    "collapsed": false
   },
   "outputs": [],
   "source": [
    "from distutils.core import Distribution, Extension\n",
    "from distutils.command.build_ext import build_ext\n",
    "from Cython.Build import cythonize\n",
    "import os\n",
    "#os.environ[\"CC\"] = \"gcc\"\n",
    "#os.environ[\"CXX\"] = \"gcc\"\n",
    "#os.environ[\"CPP\"] = \"gcc\"\n",
    "dist = Distribution()\n",
    "build_extension = build_ext(dist)\n",
    "build_extension.finalize_options()"
   ]
  },
  {
   "cell_type": "code",
   "execution_count": null,
   "metadata": {
    "collapsed": false
   },
   "outputs": [],
   "source": [
    "opts = dict(\n",
    "    #quiet=quiet,\n",
    "    #annotate = args.annotate,\n",
    "    force = True,\n",
    ")\n",
    "cyprinev_extension = Extension(\n",
    "    name = 'count_events',\n",
    "    sources = ['cyprinev/count_events.pyx'],\n",
    "    include_dirs = [np.get_include()],\n",
    "    language = 'c',\n",
    "    #library_dirs = args.library_dirs,\n",
    "    #extra_compile_args=['-fopenmp'],\n",
    "    #extra_link_args=['-fopenmp']\n",
    "    #libraries = args.lib,\n",
    "    #language = 'c++' if args.cplus else 'c',\n",
    ")\n",
    "build_extension.extensions = cythonize([cyprinev_extension])\n",
    "build_extension.build_temp = 'cyprinev/build_temp'\n",
    "build_extension.build_lib  = 'cyprinev'"
   ]
  },
  {
   "cell_type": "code",
   "execution_count": null,
   "metadata": {
    "collapsed": false
   },
   "outputs": [],
   "source": [
    "build_extension.run()"
   ]
  },
  {
   "cell_type": "code",
   "execution_count": null,
   "metadata": {
    "collapsed": false
   },
   "outputs": [],
   "source": [
    "#from cyprinev.count_events import get_counts\n",
    "reload(count_events)"
   ]
  },
  {
   "cell_type": "code",
   "execution_count": null,
   "metadata": {
    "collapsed": false
   },
   "outputs": [],
   "source": [
    "g = d.groupby(['age','gender'])"
   ]
  },
  {
   "cell_type": "code",
   "execution_count": null,
   "metadata": {
    "collapsed": false
   },
   "outputs": [],
   "source": [
    "dist.find_config_files()"
   ]
  },
  {
   "cell_type": "code",
   "execution_count": null,
   "metadata": {
    "collapsed": false
   },
   "outputs": [],
   "source": [
    "from distutils import sysconfig\n",
    "sysconfig.get_config_var('LDSHARED')"
   ]
  },
  {
   "cell_type": "code",
   "execution_count": null,
   "metadata": {
    "collapsed": true
   },
   "outputs": [],
   "source": []
  }
 ],
 "metadata": {
  "kernelspec": {
   "display_name": "Python 2",
   "language": "python",
   "name": "python2"
  },
  "language_info": {
   "codemirror_mode": {
    "name": "ipython",
    "version": 2
   },
   "file_extension": ".py",
   "mimetype": "text/x-python",
   "name": "python",
   "nbconvert_exporter": "python",
   "pygments_lexer": "ipython2",
   "version": "2.7.10"
  }
 },
 "nbformat": 4,
 "nbformat_minor": 0
}
