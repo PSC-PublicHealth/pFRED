{
 "cells": [
  {
   "cell_type": "code",
   "execution_count": 1,
   "metadata": {
    "collapsed": false
   },
   "outputs": [],
   "source": [
    "#%reload_ext Cython\n",
    "import pandas as pd\n",
    "import numpy as np\n",
    "#from scipy.sparse import csr_matrix\n",
    "from collections import OrderedDict\n",
    "import time\n",
    "#import numba\n",
    "\n",
    "# NOTE! need to do this to be able to reload modules!!!!\n",
    "import pyximport\n",
    "pyximport.install(reload_support=True)"
   ]
  },
  {
   "cell_type": "code",
   "execution_count": 2,
   "metadata": {
    "collapsed": false
   },
   "outputs": [],
   "source": [
    "# NOTE: Inital setting for NA; may change later when coerced to DTYPE!\n",
    "NA = -1\n",
    "DTYPE = np.uint32\n",
    "d_full = pd.read_csv('/tmp/test.csv')\n",
    "d_full.fillna(NA, inplace=True)\n",
    "d_full.ix[d_full.gender != NA,'gender'] -= 1\n",
    "d_full = d_full.apply(lambda x: x.astype(DTYPE), axis=0)\n",
    "# NOTE: NA may change when coerced to DTYPE!\n",
    "NA = DTYPE(NA)"
   ]
  },
  {
   "cell_type": "code",
   "execution_count": 3,
   "metadata": {
    "collapsed": false
   },
   "outputs": [
    {
     "data": {
      "text/html": [
       "<div>\n",
       "<table border=\"1\" class=\"dataframe\">\n",
       "  <thead>\n",
       "    <tr style=\"text-align: right;\">\n",
       "      <th></th>\n",
       "      <th>age</th>\n",
       "      <th>gender</th>\n",
       "      <th>exposed</th>\n",
       "      <th>infectious</th>\n",
       "      <th>symptomatic</th>\n",
       "      <th>recovered</th>\n",
       "      <th>susceptible</th>\n",
       "    </tr>\n",
       "  </thead>\n",
       "  <tbody>\n",
       "    <tr>\n",
       "      <th>0</th>\n",
       "      <td>94</td>\n",
       "      <td>1</td>\n",
       "      <td>0</td>\n",
       "      <td>1</td>\n",
       "      <td>4294967295</td>\n",
       "      <td>7</td>\n",
       "      <td>2147483647</td>\n",
       "    </tr>\n",
       "    <tr>\n",
       "      <th>1</th>\n",
       "      <td>14</td>\n",
       "      <td>1</td>\n",
       "      <td>0</td>\n",
       "      <td>1</td>\n",
       "      <td>1</td>\n",
       "      <td>4</td>\n",
       "      <td>2147483647</td>\n",
       "    </tr>\n",
       "    <tr>\n",
       "      <th>2</th>\n",
       "      <td>14</td>\n",
       "      <td>1</td>\n",
       "      <td>0</td>\n",
       "      <td>1</td>\n",
       "      <td>1</td>\n",
       "      <td>4</td>\n",
       "      <td>2147483647</td>\n",
       "    </tr>\n",
       "    <tr>\n",
       "      <th>3</th>\n",
       "      <td>17</td>\n",
       "      <td>0</td>\n",
       "      <td>0</td>\n",
       "      <td>2</td>\n",
       "      <td>2</td>\n",
       "      <td>6</td>\n",
       "      <td>2147483647</td>\n",
       "    </tr>\n",
       "    <tr>\n",
       "      <th>4</th>\n",
       "      <td>81</td>\n",
       "      <td>0</td>\n",
       "      <td>0</td>\n",
       "      <td>1</td>\n",
       "      <td>4294967295</td>\n",
       "      <td>5</td>\n",
       "      <td>2147483647</td>\n",
       "    </tr>\n",
       "  </tbody>\n",
       "</table>\n",
       "</div>"
      ],
      "text/plain": [
       "   age  gender  exposed  infectious  symptomatic  recovered  susceptible\n",
       "0   94       1        0           1   4294967295          7   2147483647\n",
       "1   14       1        0           1            1          4   2147483647\n",
       "2   14       1        0           1            1          4   2147483647\n",
       "3   17       0        0           2            2          6   2147483647\n",
       "4   81       0        0           1   4294967295          5   2147483647"
      ]
     },
     "execution_count": 3,
     "metadata": {},
     "output_type": "execute_result"
    }
   ],
   "source": [
    "d_full.head()"
   ]
  },
  {
   "cell_type": "code",
   "execution_count": 4,
   "metadata": {
    "collapsed": false
   },
   "outputs": [
    {
     "data": {
      "text/plain": [
       "(95, 2, 14, 98)"
      ]
     },
     "execution_count": 4,
     "metadata": {},
     "output_type": "execute_result"
    }
   ],
   "source": [
    "grouping_keys = ['age','gender']\n",
    "d = d_full.sort_values(grouping_keys).reset_index(drop=True)\n",
    "\n",
    "event_map = OrderedDict(\n",
    "    exposed = d.columns.get_loc('exposed'),\n",
    "    infectious = d.columns.get_loc('infectious'),\n",
    "    symptomatic = d.columns.get_loc('symptomatic'),\n",
    "    recovered = d.columns.get_loc('recovered'),\n",
    "    susceptible = d.columns.get_loc('susceptible')\n",
    ")\n",
    "\n",
    "state_map = OrderedDict(\n",
    "    N_i=0,S_i=2,E_i=4,I_i=6,Y_i=8,R_i=10,IS_i=12,\n",
    "    N_p=1,S_p=3,E_p=5,I_p=7,Y_p=9,R_p=11,IS_p=13\n",
    ")\n",
    "\n",
    "group_map = OrderedDict([(k,d.columns.get_loc(k)) for k in grouping_keys])\n",
    "group_dims_sorted_indexes = [i for k,i in group_map.iteritems()]\n",
    "group_dims_sizes = [int(d[k][d[k]!=NA].max()) + 1 for k in group_map.keys()]\n",
    "\n",
    "dim_states_size = len(state_map)\n",
    "dim_days_size = int(d.recovered[d.recovered != NA].max()) + 1\n",
    "\n",
    "a = np.zeros(group_dims_sizes+[dim_states_size,dim_days_size], dtype=DTYPE)\n",
    "a.shape"
   ]
  },
  {
   "cell_type": "code",
   "execution_count": null,
   "metadata": {
    "collapsed": false
   },
   "outputs": [],
   "source": [
    "#%prun -l 2 d.apply(get_counts, axis=1, raw=True)\n",
    "#test2=d.apply(get_counts, axis=1, raw=True)"
   ]
  },
  {
   "cell_type": "markdown",
   "metadata": {},
   "source": [
    "The following cells reproduce the important bits of the cython cell magic.\n",
    "For guidance look here:\n",
    "- https://raw.githubusercontent.com/studer/ipython/master/IPython/extensions/cythonmagic.py"
   ]
  },
  {
   "cell_type": "code",
   "execution_count": 109,
   "metadata": {
    "collapsed": false
   },
   "outputs": [
    {
     "name": "stdout",
     "output_type": "stream",
     "text": [
      "Compiling cyprinev/count_events.pyx because it changed.\n",
      "[1/1] Cythonizing cyprinev/count_events.pyx\n"
     ]
    },
    {
     "name": "stderr",
     "output_type": "stream",
     "text": [
      "\n",
      "Error compiling Cython file:\n",
      "------------------------------------------------------------\n",
      "...\n",
      "        n -= 1\n",
      "\n",
      "def busy_sleep(int n, r):\n",
      "    cdef int test\n",
      "    with nogil:\n",
      "        test = r.shape[0]\n",
      "                     ^\n",
      "------------------------------------------------------------\n",
      "\n",
      "cyprinev/count_events.pyx:95:22: Coercion from Python not allowed without the GIL\n",
      "\n",
      "Error compiling Cython file:\n",
      "------------------------------------------------------------\n",
      "...\n",
      "        n -= 1\n",
      "\n",
      "def busy_sleep(int n, r):\n",
      "    cdef int test\n",
      "    with nogil:\n",
      "        test = r.shape[0]\n",
      "                     ^\n",
      "------------------------------------------------------------\n",
      "\n",
      "cyprinev/count_events.pyx:95:22: Indexing Python object not allowed without gil\n",
      "\n",
      "Error compiling Cython file:\n",
      "------------------------------------------------------------\n",
      "...\n",
      "        n -= 1\n",
      "\n",
      "def busy_sleep(int n, r):\n",
      "    cdef int test\n",
      "    with nogil:\n",
      "        test = r.shape[0]\n",
      "               ^\n",
      "------------------------------------------------------------\n",
      "\n",
      "cyprinev/count_events.pyx:95:16: Accessing Python attribute not allowed without gil\n"
     ]
    },
    {
     "ename": "CompileError",
     "evalue": "cyprinev/count_events.pyx",
     "output_type": "error",
     "traceback": [
      "\u001b[1;31m---------------------------------------------------------------------------\u001b[0m",
      "\u001b[1;31mCompileError\u001b[0m                              Traceback (most recent call last)",
      "\u001b[1;32m<ipython-input-109-9fdab601e57d>\u001b[0m in \u001b[0;36m<module>\u001b[1;34m()\u001b[0m\n\u001b[0;32m     25\u001b[0m     \u001b[1;31m#language = 'c++' if args.cplus else 'c',\u001b[0m\u001b[1;33m\u001b[0m\u001b[1;33m\u001b[0m\u001b[0m\n\u001b[0;32m     26\u001b[0m )\n\u001b[1;32m---> 27\u001b[1;33m \u001b[0mbuild_extension\u001b[0m\u001b[1;33m.\u001b[0m\u001b[0mextensions\u001b[0m \u001b[1;33m=\u001b[0m \u001b[0mcythonize\u001b[0m\u001b[1;33m(\u001b[0m\u001b[1;33m[\u001b[0m\u001b[0mcyprinev_extension\u001b[0m\u001b[1;33m]\u001b[0m\u001b[1;33m,\u001b[0m \u001b[0mforce\u001b[0m\u001b[1;33m=\u001b[0m\u001b[0mTrue\u001b[0m\u001b[1;33m)\u001b[0m\u001b[1;33m\u001b[0m\u001b[0m\n\u001b[0m\u001b[0;32m     28\u001b[0m \u001b[0mbuild_extension\u001b[0m\u001b[1;33m.\u001b[0m\u001b[0mbuild_temp\u001b[0m \u001b[1;33m=\u001b[0m \u001b[1;34m'cyprinev/build_temp'\u001b[0m\u001b[1;33m\u001b[0m\u001b[0m\n\u001b[0;32m     29\u001b[0m \u001b[0mbuild_extension\u001b[0m\u001b[1;33m.\u001b[0m\u001b[0mbuild_lib\u001b[0m  \u001b[1;33m=\u001b[0m \u001b[1;34m'cyprinev'\u001b[0m\u001b[1;33m\u001b[0m\u001b[0m\n",
      "\u001b[1;32m/mnt/beegfs1/users/depasse/.virtualenvs/pfred/lib/python2.7/site-packages/Cython/Build/Dependencies.pyc\u001b[0m in \u001b[0;36mcythonize\u001b[1;34m(module_list, exclude, nthreads, aliases, quiet, force, language, exclude_failures, **options)\u001b[0m\n\u001b[0;32m    875\u001b[0m     \u001b[1;32mif\u001b[0m \u001b[1;32mnot\u001b[0m \u001b[0mnthreads\u001b[0m\u001b[1;33m:\u001b[0m\u001b[1;33m\u001b[0m\u001b[0m\n\u001b[0;32m    876\u001b[0m         \u001b[1;32mfor\u001b[0m \u001b[0margs\u001b[0m \u001b[1;32min\u001b[0m \u001b[0mto_compile\u001b[0m\u001b[1;33m:\u001b[0m\u001b[1;33m\u001b[0m\u001b[0m\n\u001b[1;32m--> 877\u001b[1;33m             \u001b[0mcythonize_one\u001b[0m\u001b[1;33m(\u001b[0m\u001b[1;33m*\u001b[0m\u001b[0margs\u001b[0m\u001b[1;33m)\u001b[0m\u001b[1;33m\u001b[0m\u001b[0m\n\u001b[0m\u001b[0;32m    878\u001b[0m \u001b[1;33m\u001b[0m\u001b[0m\n\u001b[0;32m    879\u001b[0m     \u001b[1;32mif\u001b[0m \u001b[0mexclude_failures\u001b[0m\u001b[1;33m:\u001b[0m\u001b[1;33m\u001b[0m\u001b[0m\n",
      "\u001b[1;32m/mnt/beegfs1/users/depasse/.virtualenvs/pfred/lib/python2.7/site-packages/Cython/Build/Dependencies.pyc\u001b[0m in \u001b[0;36mcythonize_one\u001b[1;34m(pyx_file, c_file, fingerprint, quiet, options, raise_on_failure, embedded_metadata, progress)\u001b[0m\n\u001b[0;32m    995\u001b[0m     \u001b[1;32mif\u001b[0m \u001b[0many_failures\u001b[0m\u001b[1;33m:\u001b[0m\u001b[1;33m\u001b[0m\u001b[0m\n\u001b[0;32m    996\u001b[0m         \u001b[1;32mif\u001b[0m \u001b[0mraise_on_failure\u001b[0m\u001b[1;33m:\u001b[0m\u001b[1;33m\u001b[0m\u001b[0m\n\u001b[1;32m--> 997\u001b[1;33m             \u001b[1;32mraise\u001b[0m \u001b[0mCompileError\u001b[0m\u001b[1;33m(\u001b[0m\u001b[0mNone\u001b[0m\u001b[1;33m,\u001b[0m \u001b[0mpyx_file\u001b[0m\u001b[1;33m)\u001b[0m\u001b[1;33m\u001b[0m\u001b[0m\n\u001b[0m\u001b[0;32m    998\u001b[0m         \u001b[1;32melif\u001b[0m \u001b[0mos\u001b[0m\u001b[1;33m.\u001b[0m\u001b[0mpath\u001b[0m\u001b[1;33m.\u001b[0m\u001b[0mexists\u001b[0m\u001b[1;33m(\u001b[0m\u001b[0mc_file\u001b[0m\u001b[1;33m)\u001b[0m\u001b[1;33m:\u001b[0m\u001b[1;33m\u001b[0m\u001b[0m\n\u001b[0;32m    999\u001b[0m             \u001b[0mos\u001b[0m\u001b[1;33m.\u001b[0m\u001b[0mremove\u001b[0m\u001b[1;33m(\u001b[0m\u001b[0mc_file\u001b[0m\u001b[1;33m)\u001b[0m\u001b[1;33m\u001b[0m\u001b[0m\n",
      "\u001b[1;31mCompileError\u001b[0m: cyprinev/count_events.pyx"
     ]
    }
   ],
   "source": [
    "from distutils.core import Distribution, Extension\n",
    "from distutils.command.build_ext import build_ext\n",
    "from Cython.Build import cythonize\n",
    "import os\n",
    "os.environ[\"CC\"] = \"/usr/local/gcc483/bin/gcc\"\n",
    "os.environ[\"CXX\"] = \"/usr/local/gcc483/bin/g++\"\n",
    "os.environ[\"OMP_NUM_THREADS\"] = \"10\"\n",
    "dist = Distribution()\n",
    "build_extension = build_ext(dist)\n",
    "#build_extension.finalize_options()\n",
    "opts = dict(\n",
    "    #quiet=quiet,\n",
    "    #annotate = args.annotate,\n",
    "    force = True,\n",
    ")\n",
    "cyprinev_extension = Extension(\n",
    "    name = 'count_events',\n",
    "    sources = ['cyprinev/count_events.pyx'],\n",
    "    include_dirs = [np.get_include()],\n",
    "    language = 'c++',\n",
    "    #library_dirs = ['/usr/local/lib/gcc/5','/usr/local/lib'],\n",
    "    extra_compile_args=['-fopenmp'],\n",
    "    extra_link_args=['-fopenmp']\n",
    "    #libraries = args.lib,\n",
    "    #language = 'c++' if args.cplus else 'c',\n",
    ")\n",
    "build_extension.extensions = cythonize([cyprinev_extension], force=True)\n",
    "build_extension.build_temp = 'cyprinev/build_temp'\n",
    "build_extension.build_lib  = 'cyprinev'\n",
    "build_extension.finalize_options()\n",
    "build_extension.run()\n",
    "#import cyprinev.count_events as count_events\n",
    "reload(count_events)"
   ]
  },
  {
   "cell_type": "code",
   "execution_count": 82,
   "metadata": {
    "collapsed": true
   },
   "outputs": [],
   "source": [
    "dg=d.groupby(grouping_keys)\n",
    "dgda = np.asarray([dg.get_group(g).index[[0,-1]].values for g in dg.groups.keys()])"
   ]
  },
  {
   "cell_type": "code",
   "execution_count": null,
   "metadata": {
    "collapsed": false
   },
   "outputs": [],
   "source": [
    "import concurrent.futures\n",
    "N = 40000000\n",
    "n = 64\n",
    "with concurrent.futures.ThreadPoolExecutor(max_workers=32) as executor:\n",
    "    # Start the load operations and mark each future with its\n",
    "    future_to_url = {executor.submit(count_events.busy_sleep_nogil, N): i for i in range(n)}\n",
    "    for future in concurrent.futures.as_completed(future_to_url):\n",
    "        url = future_to_url[future]\n",
    "        try:\n",
    "            data = future.result()\n",
    "        except Exception as exc:\n",
    "            print('%d generated an exception: %s' % (url, exc))\n",
    "        else:\n",
    "            print('%d page is %d bytes' % (url, data))"
   ]
  },
  {
   "cell_type": "code",
   "execution_count": 106,
   "metadata": {
    "collapsed": false
   },
   "outputs": [
    {
     "name": "stdout",
     "output_type": "stream",
     "text": [
      "1 page is 40000000 bytes\n",
      "5 page is 40000000 bytes\n",
      "3 page is 40000000 bytes\n",
      "7 page is 40000000 bytes\n",
      "17 page is 40000000 bytes\n",
      "12 page is 40000000 bytes\n",
      "0 page is 40000000 bytes\n",
      "11 page is 40000000 bytes\n",
      "16 page is 40000000 bytes\n",
      "2 page is 40000000 bytes\n",
      "4 page is 40000000 bytes\n",
      "14 page is 40000000 bytes\n",
      "20 page is 40000000 bytes\n",
      "9 page is 40000000 bytes\n",
      "18 page is 40000000 bytes\n",
      "21 page is 40000000 bytes\n",
      "8 page is 40000000 bytes\n",
      "22 page is 40000000 bytes\n",
      "26 page is 40000000 bytes\n",
      "13 page is 40000000 bytes\n",
      "19 page is 40000000 bytes\n",
      "10 page is 40000000 bytes\n",
      "23 page is 40000000 bytes\n",
      "30 page is 40000000 bytes\n",
      "27 page is 40000000 bytes\n",
      "28 page is 40000000 bytes\n",
      "31 page is 40000000 bytes\n",
      "15 page is 40000000 bytes\n",
      "24 page is 40000000 bytes\n",
      "29 page is 40000000 bytes\n",
      "25 page is 40000000 bytes\n",
      "6 page is 40000000 bytes\n",
      "32 page is 40000000 bytes\n",
      "33 page is 40000000 bytes\n",
      "35 page is 40000000 bytes\n",
      "36 page is 40000000 bytes\n",
      "37 page is 40000000 bytes\n",
      "34 page is 40000000 bytes\n",
      "39 page is 40000000 bytes\n",
      "43 page is 40000000 bytes\n",
      "44 page is 40000000 bytes\n",
      "47 page is 40000000 bytes\n",
      "38 page is 40000000 bytes\n",
      "46 page is 40000000 bytes\n",
      "42 page is 40000000 bytes\n",
      "50 page is 40000000 bytes\n",
      "41 page is 40000000 bytes\n",
      "45 page is 40000000 bytes\n",
      "51 page is 40000000 bytes\n",
      "49 page is 40000000 bytes\n",
      "55 page is 40000000 bytes\n",
      "56 page is 40000000 bytes\n",
      "48 page is 40000000 bytes\n",
      "57 page is 40000000 bytes\n",
      "40 page is 40000000 bytes\n",
      "52 page is 40000000 bytes\n",
      "58 page is 40000000 bytes\n",
      "61 page is 40000000 bytes\n",
      "62 page is 40000000 bytes\n",
      "53 page is 40000000 bytes\n",
      "59 page is 40000000 bytes\n",
      "60 page is 40000000 bytes\n",
      "54 page is 40000000 bytes\n",
      "63 page is 40000000 bytes\n"
     ]
    }
   ],
   "source": [
    "count_events.busy_sleep_nogil()"
   ]
  },
  {
   "cell_type": "code",
   "execution_count": null,
   "metadata": {
    "collapsed": true
   },
   "outputs": [],
   "source": []
  }
 ],
 "metadata": {
  "kernelspec": {
   "display_name": "Python 2",
   "language": "python",
   "name": "python2"
  },
  "language_info": {
   "codemirror_mode": {
    "name": "ipython",
    "version": 2
   },
   "file_extension": ".py",
   "mimetype": "text/x-python",
   "name": "python",
   "nbconvert_exporter": "python",
   "pygments_lexer": "ipython2",
   "version": "2.7.8"
  }
 },
 "nbformat": 4,
 "nbformat_minor": 0
}
