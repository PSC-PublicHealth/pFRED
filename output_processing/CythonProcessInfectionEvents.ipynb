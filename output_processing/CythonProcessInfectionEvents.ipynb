{
 "cells": [
  {
   "cell_type": "code",
   "execution_count": null,
   "metadata": {
    "collapsed": false
   },
   "outputs": [],
   "source": [
    "#%reload_ext Cython\n",
    "import pandas as pd\n",
    "import numpy as np\n",
    "#from scipy.sparse import csr_matrix\n",
    "from collections import OrderedDict\n",
    "import time\n",
    "#import numba\n",
    "\n",
    "# NOTE! need to do this to be able to reload modules!!!!\n",
    "import pyximport\n",
    "pyximport.install(reload_support=True)"
   ]
  },
  {
   "cell_type": "markdown",
   "metadata": {},
   "source": [
    "The following cells reproduce the important bits of the cython cell magic.\n",
    "For guidance look here:\n",
    "- https://raw.githubusercontent.com/studer/ipython/master/IPython/extensions/cythonmagic.py"
   ]
  },
  {
   "cell_type": "code",
   "execution_count": null,
   "metadata": {
    "collapsed": false,
    "scrolled": true
   },
   "outputs": [],
   "source": [
    "from distutils.core import Distribution, Extension\n",
    "from distutils.command.build_ext import build_ext\n",
    "from Cython.Build import cythonize\n",
    "import os\n",
    "\n",
    "os.environ[\"CC\"] = \"gcc-4.9\"\n",
    "os.environ[\"CXX\"] = \"g++-4.9\"\n",
    "#os.environ[\"OMP_NUM_THREADS\"] = \"10\"\n",
    "os.environ[\"CFLAGS\"] = '-I%s' % np.get_include()\n",
    "\n",
    "dist = Distribution()\n",
    "build_extension = build_ext(dist)\n",
    "cyprinev_extension = Extension(\n",
    "    name = 'count_events',\n",
    "    sources = ['cyprinev/count_events.pyx'],\n",
    "    include_dirs = [np.get_include()],\n",
    "    language = 'c',\n",
    "    #library_dirs = ['/usr/local/lib/gcc/5','/usr/local/lib'],\n",
    "    #extra_compile_args=['-fopenmp'],\n",
    "    #extra_link_args=['-fopenmp']\n",
    "    #libraries = args.lib,\n",
    "    #language = 'c++' if args.cplus else 'c',\n",
    ")\n",
    "build_extension.extensions = cythonize([cyprinev_extension], force=True)\n",
    "build_extension.build_temp = 'cyprinev/build_temp'\n",
    "build_extension.build_lib  = 'cyprinev'\n",
    "build_extension.finalize_options()\n",
    "build_extension.run()\n",
    "import cyprinev.count_events as count_events\n",
    "reload(count_events)"
   ]
  },
  {
   "cell_type": "markdown",
   "metadata": {
    "collapsed": true
   },
   "source": [
    " Note: this might be easier - for some reason the extension used above isn't\n",
    " propagating/setting environment variables like \"include_dirs\", etc.\n",
    "\n",
    "```python\n",
    "pyximport.install(setup_args={\"script_args\":[\"--compiler=unix\"],\n",
    "                              \"include_dirs\":numpy.get_include()},\n",
    "                  reload_support=True)\n",
    "```"
   ]
  },
  {
   "cell_type": "markdown",
   "metadata": {
    "collapsed": false
   },
   "source": [
    "To demonstrate threading without gil using concurrent.futures\n",
    "```python\n",
    "count_events.busy_sleep_nogil()\n",
    "```"
   ]
  },
  {
   "cell_type": "code",
   "execution_count": null,
   "metadata": {
    "collapsed": true
   },
   "outputs": [],
   "source": []
  }
 ],
 "metadata": {
  "kernelspec": {
   "display_name": "Python 2",
   "language": "python",
   "name": "python2"
  },
  "language_info": {
   "codemirror_mode": {
    "name": "ipython",
    "version": 2
   },
   "file_extension": ".py",
   "mimetype": "text/x-python",
   "name": "python",
   "nbconvert_exporter": "python",
   "pygments_lexer": "ipython2",
   "version": "2.7.9"
  }
 },
 "nbformat": 4,
 "nbformat_minor": 0
}
