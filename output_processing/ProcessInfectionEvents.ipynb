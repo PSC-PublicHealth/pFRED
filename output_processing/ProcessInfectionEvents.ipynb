{
 "cells": [
  {
   "cell_type": "code",
   "execution_count": null,
   "metadata": {
    "collapsed": false
   },
   "outputs": [],
   "source": [
    "import pandas as pd\n",
    "import numpy as np\n",
    "import json\n",
    "#try: import simplejson as json\n",
    "#except ImportError: import json\n",
    "from joblib import Parallel, delayed\n",
    "import multiprocessing\n",
    "import itertools\n",
    "import time\n",
    "import lz4"
   ]
  },
  {
   "cell_type": "code",
   "execution_count": null,
   "metadata": {
    "collapsed": false
   },
   "outputs": [],
   "source": [
    "def read_infection_events_to_data_frame(filename='infection.events.json'):\n",
    "    def read_infection_events():\n",
    "        with open(filename, 'rb') as f:\n",
    "            for line in f:\n",
    "                yield(json.loads(line))\n",
    "    infections = pd.DataFrame.from_dict(read_infection_events())\n",
    "    infections.loc[infections.symptomatic < 1, 'symptomatic'] = None\n",
    "    infections.person = infections.person.astype(np.int64)\n",
    "    return(infections)"
   ]
  },
  {
   "cell_type": "code",
   "execution_count": null,
   "metadata": {
    "collapsed": false
   },
   "outputs": [],
   "source": [
    "#%%timeit -n1 -r1\n",
    "infections = read_infection_events_to_data_frame()"
   ]
  },
  {
   "cell_type": "code",
   "execution_count": null,
   "metadata": {
    "collapsed": false
   },
   "outputs": [],
   "source": [
    "#%%timeit -n1 -r1\n",
    "population_original = pd.DataFrame.from_csv('../populations/2005_2009_ver2_42003/2005_2009_ver2_42003_synth_people.txt')\n",
    "households_original = pd.DataFrame.from_csv('../populations/2005_2009_ver2_42003/2005_2009_ver2_42003_synth_households.txt')\n",
    "workplaces = pd.DataFrame.from_csv('../populations/2005_2009_ver2_42003/2005_2009_ver2_42003_workplaces.txt')\n",
    "schools = pd.DataFrame.from_csv('../populations/2005_2009_ver2_42003/2005_2009_ver2_42003_schools.txt')"
   ]
  },
  {
   "cell_type": "code",
   "execution_count": null,
   "metadata": {
    "collapsed": false
   },
   "outputs": [],
   "source": [
    "population = population_original.reset_index(level=0).reset_index(level=0)\n",
    "population.rename(columns={'index':'person'}, inplace=True)\n",
    "\n",
    "apollo_locations = pd.DataFrame.from_csv('ApolloLocationCode.to.FIPSstcotr.csv')\n",
    "apollo_locations.reset_index(level=0, inplace=True)\n",
    "\n",
    "households = households_original.reset_index(level=0)\n",
    "households['stcotr'] = (households.stcotrbg/10).astype(np.int64)\n",
    "households = pd.merge(households, apollo_locations, on='stcotr', how='inner', suffixes=('','_'), copy=True)"
   ]
  },
  {
   "cell_type": "code",
   "execution_count": null,
   "metadata": {
    "collapsed": true
   },
   "outputs": [],
   "source": [
    "state_dict = dict(\n",
    "    S = 'susceptible', E = 'exposed', I = 'infectious',\n",
    "    Y = 'symptomatic', R = 'recovered', IS = 'infectious and symptomatic'\n",
    ")\n",
    "population_dict = dict(\n",
    "    # FRED currently just numbers persons sequentially as they are read from the synthetic population file\n",
    "    # rather than using the unique p_id provided in the synth population.  This should be changed, but until it\n",
    "    # is, we can't use the p_id.  Instead, see cell above for 'person' sequential id column.\n",
    "    #person = 'p_id', \n",
    "    race = 'race',\n",
    "    age = 'age',\n",
    "    sex = 'sex'\n",
    ")\n",
    "household_dict = dict(\n",
    "    income = 'hh_income',\n",
    "    location = 'apollo_location_code'\n",
    ")"
   ]
  },
  {
   "cell_type": "code",
   "execution_count": null,
   "metadata": {
    "collapsed": true
   },
   "outputs": [],
   "source": [
    "def query_population(population, households,\n",
    "                     population_attributes=['age','race','sex'],\n",
    "                     household_attributes=['income','location']):\n",
    "\n",
    "    _population_attributes = [population_dict[x] for x in population_attributes] + ['person', 'hh_id']\n",
    "    _household_attributes = [household_dict[x] for x in household_attributes] + ['hh_id']\n",
    "\n",
    "    population = pd.merge(population[_population_attributes],\n",
    "                          households[_household_attributes],\n",
    "                          on='hh_id', suffixes=('', '.h'), how='left',\n",
    "                          copy=True)[list(set(_population_attributes).union(_household_attributes))]\n",
    "    \n",
    "    population.rename(columns = {v:k for k,v in dict(population_dict.items() + household_dict.items()).iteritems()},\n",
    "                      inplace = True)\n",
    "    \n",
    "    return population"
   ]
  },
  {
   "cell_type": "code",
   "execution_count": null,
   "metadata": {
    "collapsed": false,
    "scrolled": true
   },
   "outputs": [],
   "source": [
    "def query_infections(group_data_frame, times, incidence=['S','E','I','Y','R','IS'],\n",
    "                     prevalence=['S','E','I','Y','R','IS'], grouping_keys={}):\n",
    "    \n",
    "    _infections = pd.merge(infections, group_data_frame, on='person', how='inner', suffixes=('','_'), copy=False)\n",
    "    \n",
    "    # NOTE: Can't do a join inside a Parallel for some reason, so must join infections and persons before passing!!!\n",
    "    total_susceptible = len(_infections.person.unique())\n",
    "    \n",
    "    def get_incidence(_infections, state, day):\n",
    "        if state == 'IS':\n",
    "            return len(_infections[(day == _infections.infectious) & (day == _infections.symptomatic)].index)\n",
    "        else:\n",
    "            s = state_dict[state]\n",
    "            return len(_infections[_infections[s]==day].index)\n",
    "\n",
    "    def get_prevalence(_infections, states, day):\n",
    "        if states is not None and isinstance(states, list) and len(states) > 0:\n",
    "            mask = {'NOT_S': (day >= _infections.exposed) & (day < _infections.susceptible)}\n",
    "            if set(['E','I','Y','R','IS']).intersection(set(states)):\n",
    "                mask['E'] = (mask['NOT_S'] & (day < _infections.infectious))\n",
    "            if 'I' in states:\n",
    "                mask['I'] = (mask['NOT_S'] & (day >= _infections.infectious)) & (day < _infections.recovered)\n",
    "            if 'Y' in states:\n",
    "                mask['Y'] = (mask['NOT_S'] & (day >= _infections.symptomatic)) & (day < _infections.recovered)\n",
    "            if 'R' in states:\n",
    "                mask['R'] = (mask['NOT_S'] & (day >= _infections.recovered)) & (day < _infections.susceptible)\n",
    "            if 'IS' in states:\n",
    "                mask['IS'] = mask['I'] & mask['Y']\n",
    "           \n",
    "        for state in states:\n",
    "            if state is None:\n",
    "                raise Exception('No state specified!')\n",
    "            elif state == 'S':\n",
    "                yield (state, total_susceptible - len(_infections[mask['NOT_S']].index))\n",
    "            else:\n",
    "                try:\n",
    "                    if total_susceptible == len(_infections[mask['NOT_S']].index):\n",
    "                        yield (state, 0)\n",
    "                    else:\n",
    "                        yield (state, len(_infections[mask[state]].index))\n",
    "                except:\n",
    "                    raise Exception('Unknown prevalence state requested %s!' % state)\n",
    "\n",
    "    rows = []\n",
    "    for t in times:\n",
    "        row = dict(day = t)\n",
    "        row.update({k + '_i': get_incidence(_infections, k, t) for k in incidence})\n",
    "        row.update({k + '_p': v for k,v in get_prevalence(_infections, prevalence, t)})\n",
    "        if grouping_keys:\n",
    "            row.update(grouping_keys)\n",
    "        rows.append(row)\n",
    "    \n",
    "    return lz4.dumps(json.dumps(rows))"
   ]
  },
  {
   "cell_type": "code",
   "execution_count": null,
   "metadata": {
    "collapsed": false
   },
   "outputs": [],
   "source": [
    "def parallel_apply_query_infections(population, households, infections, times,\n",
    "                                    incidence=['S','E','I','Y','R','IS'],\n",
    "                                    prevalence=['S','E','I','Y','R','IS'],\n",
    "                                    group_by_keys=['age','race']):\n",
    "    \n",
    "    #n_jobs = multiprocessing.cpu_count()\n",
    "    n_jobs = 8\n",
    "    \n",
    "    grouped_persons = query_population(population, households).groupby(group_by_keys)\n",
    "    grouping_keys = grouped_persons.grouper.names\n",
    "    \n",
    "    result_list = Parallel(n_jobs=n_jobs)(delayed(query_infections)(\n",
    "            #pd.merge(infections, group_data_frame, on='person', how='inner', suffixes=('','_'), copy=False),\n",
    "            group_data_frame,\n",
    "            times, incidence, prevalence,\n",
    "            {k:v for k,v in zip(\n",
    "                    grouping_keys, grouping_values if isinstance(grouping_values, tuple) else (grouping_values,))\n",
    "            }) for grouping_values, group_data_frame in grouped_persons)\n",
    "    \n",
    "    #return [json.loads(lz4.loads(result)) for result in result_list]\n",
    "    return pd.DataFrame([row_dict for row_dict in itertools.chain(\n",
    "                *[json.loads(lz4.loads(result)) for result in result_list])])\n",
    "    #return result_list\n",
    "# check this out for a little background:\n",
    "# http://stackoverflow.com/questions/26187759/parallelize-apply-after-pandas-groupby"
   ]
  },
  {
   "cell_type": "code",
   "execution_count": null,
   "metadata": {
    "collapsed": false
   },
   "outputs": [],
   "source": [
    "tic = time.time()\n",
    "\n",
    "r = parallel_apply_query_infections(population, households, infections,\n",
    "                                    times=range(100),\n",
    "                                    #incidence=['E'], prevalence=['I'],\n",
    "                                    group_by_keys=['location','age','sex'])\n",
    "\n",
    "toc = time.time()\n",
    "\n",
    "print(toc-tic)\n",
    "print(len(r))\n",
    "print(r.head())"
   ]
  },
  {
   "cell_type": "code",
   "execution_count": null,
   "metadata": {
    "collapsed": false
   },
   "outputs": [],
   "source": [
    "len(r)"
   ]
  },
  {
   "cell_type": "code",
   "execution_count": null,
   "metadata": {
    "collapsed": true
   },
   "outputs": [],
   "source": []
  }
 ],
 "metadata": {
  "kernelspec": {
   "display_name": "Python 2",
   "language": "python",
   "name": "python2"
  },
  "language_info": {
   "codemirror_mode": {
    "name": "ipython",
    "version": 2
   },
   "file_extension": ".py",
   "mimetype": "text/x-python",
   "name": "python",
   "nbconvert_exporter": "python",
   "pygments_lexer": "ipython2",
   "version": "2.7.10"
  }
 },
 "nbformat": 4,
 "nbformat_minor": 0
}
