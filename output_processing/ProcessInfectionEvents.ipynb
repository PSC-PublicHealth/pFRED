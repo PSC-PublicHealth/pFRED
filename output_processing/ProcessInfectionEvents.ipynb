{
 "cells": [
  {
   "cell_type": "code",
   "execution_count": null,
   "metadata": {
    "collapsed": false
   },
   "outputs": [],
   "source": [
    "#%load_ext Cython\n",
    "import pandas as pd\n",
    "import numpy as np\n",
    "import ujson, time, bz2\n",
    "from collections import OrderedDict, defaultdict\n",
    "#import pyximport\n",
    "#pyximport.install(reload_support=True)\n",
    "import cyprinev.count_events as count_events"
   ]
  },
  {
   "cell_type": "code",
   "execution_count": null,
   "metadata": {
    "collapsed": false
   },
   "outputs": [],
   "source": [
    "def read_event_report(filename):\n",
    "    output_lists = defaultdict(list)\n",
    "    with bz2.BZ2File(filename) as f:\n",
    "        for line in f:\n",
    "            j = ujson.loads(line)\n",
    "            output_lists[j.pop('event')].append(j)\n",
    "    return {k:pd.DataFrame(v) for k,v in output_lists.iteritems()}"
   ]
  },
  {
   "cell_type": "code",
   "execution_count": null,
   "metadata": {
    "collapsed": false
   },
   "outputs": [],
   "source": [
    "#%%timeit -n1 -r1\n",
    "events = read_event_report('42003.report1.json_lines.bz2')\n",
    "#infections = read_infection_events_to_data_frame()"
   ]
  },
  {
   "cell_type": "code",
   "execution_count": null,
   "metadata": {
    "collapsed": false
   },
   "outputs": [],
   "source": [
    "#%%timeit -n1 -r1\n",
    "population_original = pd.DataFrame.from_csv(\n",
    "    '../populations/2005_2009_ver2_42003/2005_2009_ver2_42003_synth_people.txt')\n",
    "households_original = pd.DataFrame.from_csv(\n",
    "    '../populations/2005_2009_ver2_42003/2005_2009_ver2_42003_synth_households.txt')\n",
    "workplaces = pd.DataFrame.from_csv(\n",
    "    '../populations/2005_2009_ver2_42003/2005_2009_ver2_42003_workplaces.txt')\n",
    "schools = pd.DataFrame.from_csv(\n",
    "    '../populations/2005_2009_ver2_42003/2005_2009_ver2_42003_schools.txt')"
   ]
  },
  {
   "cell_type": "code",
   "execution_count": null,
   "metadata": {
    "collapsed": false
   },
   "outputs": [],
   "source": [
    "population = population_original.copy()\n",
    "population = population.reset_index()\n",
    "population['person'] = population.index\n",
    "population['age_group'] = pd.cut(population.age, bins=range(0,120,10),\n",
    "                                 include_lowest=True, right=False)\n",
    "#population['age_group'] = pd.cut(population.age, bins=[0,2,18,65,120],\n",
    "#                                include_lowest=True, right=False)\n",
    "\n",
    "apollo_locations = pd.DataFrame.from_csv('ApolloLocationCode.to.FIPSstcotr.csv')\n",
    "apollo_locations.reset_index(level=0, inplace=True)\n",
    "\n",
    "households = households_original.copy().reset_index()\n",
    "households['stcotr'] = (households.stcotrbg/10).astype(np.int64)\n",
    "households = pd.merge(households, apollo_locations, on='stcotr',\n",
    "                      how='inner', suffixes=('','_'), copy=True)"
   ]
  },
  {
   "cell_type": "code",
   "execution_count": null,
   "metadata": {
    "collapsed": false
   },
   "outputs": [],
   "source": [
    "state_dict = dict(\n",
    "    N = 'number of individuals',\n",
    "    S = 'susceptible', E = 'exposed', I = 'infectious',\n",
    "    Y = 'symptomatic', R = 'recovered', IS = 'infectious and symptomatic'\n",
    ")\n",
    "population_dict = dict(\n",
    "    # FRED currently just numbers persons sequentially as they are read\n",
    "    # from the synthetic population file rather than using the unique \n",
    "    # p_id provided in the synth population.  This should be changed,\n",
    "    # but until it is, we can't use the p_id.  Instead, see cell above\n",
    "    # for 'person' sequential id column.\n",
    "    # person = 'p_id', \n",
    "    race = 'race',\n",
    "    age = 'age',\n",
    "    gender = 'sex'\n",
    ")\n",
    "household_dict = dict(\n",
    "    income = 'hh_income',\n",
    "    stcotrbg = 'stcotrbg',\n",
    "    stcotr = 'stcotr',\n",
    "    location = 'apollo_location_code'\n",
    ")"
   ]
  },
  {
   "cell_type": "code",
   "execution_count": null,
   "metadata": {
    "collapsed": true
   },
   "outputs": [],
   "source": [
    "def query_population(population, households, groupby_attributes): \n",
    "\n",
    "    _rev_population_dict = {population_dict[x]:x for x in groupby_attributes \\\n",
    "                            if x in population_dict}\n",
    "    _rev_population_dict.update({'person':'person'})\n",
    "    \n",
    "    _rev_household_dict = {household_dict[x]:x for x in groupby_attributes \\\n",
    "                           if x in household_dict}\n",
    "\n",
    "    _population = pd.merge(population[_rev_population_dict.keys() + ['hh_id']],\n",
    "                           households[_rev_household_dict.keys() + ['hh_id']],\n",
    "                           on='hh_id', suffixes=('', '.h'), how='inner',\n",
    "                           copy=True)[_rev_population_dict.keys() + \\\n",
    "                                      _rev_household_dict.keys()]\n",
    "    \n",
    "    _population.rename(columns=_rev_population_dict, inplace=True, copy=False)\n",
    "    _population.rename(columns=_rev_household_dict, inplace=True, copy=False)\n",
    "\n",
    "    for k in groupby_attributes:\n",
    "        if k not in list(_population.columns):\n",
    "            raise Exception('Unable to group by key: %s' % k)\n",
    "    \n",
    "    return _population"
   ]
  },
  {
   "cell_type": "code",
   "execution_count": null,
   "metadata": {
    "collapsed": false
   },
   "outputs": [],
   "source": [
    "#from cyprinev import count_events\n",
    "#reload(count_events)\n",
    "\n",
    "def apply_count_events(population, households, infections,\n",
    "                       group_by_keys=['age','race','location','gender']):\n",
    "    \n",
    "    DTYPE = np.uint32\n",
    "    NA = DTYPE(-1)\n",
    "    \n",
    "    d = pd.merge(events['infection'], query_population(population, households, group_by_keys),\n",
    "                 on='person', how='right', suffixes=('','_')\n",
    "                ).sort_values(group_by_keys).reset_index(drop=True)\n",
    "    \n",
    "    event_map = OrderedDict(\n",
    "        exposed = 0,\n",
    "        infectious = 1,\n",
    "        symptomatic = 2,\n",
    "        recovered = 3,\n",
    "        susceptible = 4\n",
    "    )\n",
    "    \n",
    "    event_map_keys = [k for k,v in sorted(event_map.items(), key=lambda x: x[1])]\n",
    "    \n",
    "    d = d[event_map_keys + group_by_keys]\n",
    "    \n",
    "    d[event_map_keys] = d[event_map_keys].fillna(NA).apply(lambda x: x.astype(DTYPE), axis=0)\n",
    "    \n",
    "    state_map = OrderedDict(\n",
    "        N_i=0,S_i=2,E_i=4,I_i=6,Y_i=8,R_i=10,IS_i=12,\n",
    "        N_p=1,S_p=3,E_p=5,I_p=7,Y_p=9,R_p=11,IS_p=13\n",
    "    )\n",
    "\n",
    "    n_days = d.recovered[d.recovered != NA].max() + 1\n",
    "\n",
    "    colnames = [k for k,v in sorted(state_map.items(),\n",
    "                                    key=lambda x: x[1])]\n",
    "    def convert_counts_array(g):\n",
    "        a = count_events.get_counts_from_group(g.values.astype(np.uint32),\n",
    "                                               np.uint32(n_days),\n",
    "                                               event_map, state_map)\n",
    "        df = pd.DataFrame(np.asarray(a), columns=colnames)\n",
    "        df.index.name = 'day'\n",
    "        return df\n",
    "\n",
    "    return d.groupby(group_by_keys).apply(convert_counts_array)\n",
    "    "
   ]
  },
  {
   "cell_type": "code",
   "execution_count": null,
   "metadata": {
    "collapsed": false
   },
   "outputs": [],
   "source": [
    "tic = time.time()\n",
    "test = apply_count_events(population, households, events['infection'], [\n",
    "        'age',\n",
    "        'race',\n",
    "        'location',\n",
    "        'gender'\n",
    "    ])\n",
    "print(time.time() - tic)"
   ]
  },
  {
   "cell_type": "code",
   "execution_count": null,
   "metadata": {
    "collapsed": true
   },
   "outputs": [],
   "source": [
    "def convert_columns(r):\n",
    "    # conversion of columns done as side-effect; data frame passed by ref\n",
    "    if ('gender' in r.keys() and \n",
    "        not all([a==b for (a,b) in zip(sorted(r.gender.unique()),\n",
    "                                       sorted(['M','F']))])):\n",
    "        r.gender = pd.cut(r.gender,bins=2,labels=['M','F'])\n",
    "    return r"
   ]
  },
  {
   "cell_type": "code",
   "execution_count": null,
   "metadata": {
    "collapsed": false
   },
   "outputs": [],
   "source": [
    "convert_columns(test.reset_index()).to_hdf(\n",
    "    'output.hdf5', key='AlleghenyCounty_42003_100_Days',\n",
    "    mode='w', format='t', complevel=9, complib='bzip2')"
   ]
  },
  {
   "cell_type": "code",
   "execution_count": null,
   "metadata": {
    "collapsed": false
   },
   "outputs": [],
   "source": [
    "events.keys()"
   ]
  },
  {
   "cell_type": "code",
   "execution_count": null,
   "metadata": {
    "collapsed": false
   },
   "outputs": [],
   "source": [
    "d_vaccination = pd.merge(\n",
    "                         query_population(population, households, ['age']),\n",
    "                        events['vaccination'],\n",
    "                         on='person', how='left', suffixes=('','_')\n",
    "                        ).sort_values(['age']).reset_index(drop=True)\n",
    "d_infection = pd.merge(             events['infection'],\n",
    "                         query_population(population, households, ['age']),\n",
    "           \n",
    "                         on='person', how='right', suffixes=('','_')\n",
    "                        ).sort_values(['age']).reset_index(drop=True)"
   ]
  },
  {
   "cell_type": "code",
   "execution_count": null,
   "metadata": {
    "collapsed": false
   },
   "outputs": [],
   "source": [
    "d_infection.head()"
   ]
  },
  {
   "cell_type": "code",
   "execution_count": null,
   "metadata": {
    "collapsed": false
   },
   "outputs": [],
   "source": [
    "pd.merge(d_infection, pd.DataFrame(dict(person=[],vaccine_day=[])), on='person', how='left').head()"
   ]
  },
  {
   "cell_type": "code",
   "execution_count": null,
   "metadata": {
    "collapsed": false
   },
   "outputs": [],
   "source": [
    "events['vaccination']"
   ]
  },
  {
   "cell_type": "code",
   "execution_count": null,
   "metadata": {
    "collapsed": true
   },
   "outputs": [],
   "source": []
  }
 ],
 "metadata": {
  "kernelspec": {
   "display_name": "Python 2",
   "language": "python",
   "name": "python2"
  },
  "language_info": {
   "codemirror_mode": {
    "name": "ipython",
    "version": 2
   },
   "file_extension": ".py",
   "mimetype": "text/x-python",
   "name": "python",
   "nbconvert_exporter": "python",
   "pygments_lexer": "ipython2",
   "version": "2.7.9"
  }
 },
 "nbformat": 4,
 "nbformat_minor": 0
}
